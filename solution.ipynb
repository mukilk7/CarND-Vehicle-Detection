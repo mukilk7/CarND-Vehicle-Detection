{
 "cells": [
  {
   "cell_type": "markdown",
   "metadata": {},
   "source": [
    "# Vehicle Detection Project\n",
    "\n",
    "The goals / steps of this project are the following:\n",
    "\n",
    "* Define functions to compute input features from dataset car/non-car images.\n",
    "    - Color space change, Spatial binning, Color histogram, HOG with subsampling\n",
    "* Combine (concatenate) input features, normalize/scale (using sklearn StandardScaler) them.\n",
    "* Using a balanced dataset and shuffled train/test splits, train a single or ensemble of classifiers to detect cars.\n",
    "    - Linear SVM, Decision trees, Deep neural networks\n",
    "* Implement a generic sliding window technique that feeds patches from a given image to classifier for classification.\n",
    "    - Use multiple window sizes\n",
    "    - Come up with efficient scan strategy (e.g. only bottom half of image)\n",
    "* Implement heatmap thresholding to combine multiple detections and remove false positives\n",
    "* Use information from multiple frames to remove spurious false positives that appear in one or small number of frames.\n",
    "    - Calculate motion trajectory if required\n"
   ]
  },
  {
   "cell_type": "code",
   "execution_count": null,
   "metadata": {
    "collapsed": false
   },
   "outputs": [],
   "source": [
    "import numpy as np\n",
    "import cv2\n",
    "import glob\n",
    "import os\n",
    "import matplotlib.pyplot as plt\n",
    "import matplotlib.image as mpimg\n",
    "import matplotlib.patches as patches\n",
    "%matplotlib inline"
   ]
  },
  {
   "cell_type": "code",
   "execution_count": null,
   "metadata": {
    "collapsed": false
   },
   "outputs": [],
   "source": [
    "### Helper Functions\n",
    "\n",
    "def plotImageFiles(filenames):\n",
    "    for f in filenames:\n",
    "        fig = plt.figure()\n",
    "        fig.set_size_inches(3,6)\n",
    "        img = mpimg.imread(f)\n",
    "        plt.title(f)\n",
    "        plt.axis('off')\n",
    "        plt.imshow(img)\n",
    "        \n",
    "def plotImage(img, title=None, cmap=None):\n",
    "    fig = plt.figure(figsize=(10, 12))\n",
    "    #fig.set_size_inches(4,8)\n",
    "    if title is not None:\n",
    "        plt.title(title)\n",
    "    plt.axis('off')\n",
    "    if cmap is None:\n",
    "        plt.imshow(img)\n",
    "    else:\n",
    "        plt.imshow(img, cmap=cmap)\n",
    "    \n",
    "def plotMultipleImages(images, labels=None, ptitle=None, cmap=None):\n",
    "    \"\"\" This function will plot the images specified in a\n",
    "    single plot.\n",
    "    \"\"\"\n",
    "    numImages = len(images)\n",
    "    ii = 1\n",
    "    for img in images:\n",
    "        fig = plt.figure()\n",
    "        if labels is not None:\n",
    "            plt.title(labels[ii-1], fontsize=\"xx-small\")\n",
    "        plt.axis('off')\n",
    "        if cmap is not None:\n",
    "            plt.imshow(img.squeeze(), cmap=cmap)\n",
    "        else:\n",
    "            plt.imshow(img.squeeze())\n",
    "        ii += 1\n",
    "        \n",
    "def plotImageAndPolygon(img, polygonPts):\n",
    "    fig, ax = plt.subplots(1)\n",
    "    pgn = plt.Polygon(polygonPts, color='r', alpha=0.25, lw=2)\n",
    "    ax.imshow(img)\n",
    "    ax.add_patch(pgn)\n",
    "    \n",
    "def plotImageAndMultiplePolygons(img, multPolyPts1, multPolyPts2, cmap=None):\n",
    "    fig, ax = plt.subplots(1)\n",
    "    if cmap is None:\n",
    "        ax.imshow(img)\n",
    "    else:\n",
    "        ax.imshow(img, cmap=cmap)\n",
    "    for p in range(0, len(multPolyPts1)):\n",
    "        pgn1 = plt.Polygon(multPolyPts1[p], color='r', alpha=0.25, lw=1)\n",
    "        pgn2 = plt.Polygon(multPolyPts2[p], color='b', alpha=0.25, lw=1)\n",
    "        ax.add_patch(pgn1)\n",
    "        ax.add_patch(pgn2)\n",
    "        \n",
    "def plot3SideBySide(oimg, timg, hist):\n",
    "    fig = plt.figure(figsize=(12,3))\n",
    "    plt.subplot(131)\n",
    "    plt.imshow(oimg)\n",
    "    plt.subplot(132)\n",
    "    plt.imshow(timg, cmap=\"gray\")\n",
    "    plt.subplot(133)\n",
    "    plt.plot(hist)\n",
    "    \n",
    "def plotLaneFit(timg, llfit, rlfit):\n",
    "    plt.figure()\n",
    "    # Generate x and y values for plotting\n",
    "    ploty = np.linspace(0, timg.shape[0]-1, timg.shape[0] )\n",
    "    left_fitx = llfit[0]*ploty**2 + llfit[1]*ploty + llfit[2]\n",
    "    right_fitx = rlfit[0]*ploty**2 + rlfit[1]*ploty + rlfit[2]\n",
    "    plt.imshow(timg, cmap=\"gray\")\n",
    "    plt.plot(left_fitx, ploty, color='r', lw=3)\n",
    "    plt.plot(right_fitx, ploty, color='b', lw=3)\n",
    "    plt.xlim(0, 1280)\n",
    "    plt.ylim(720, 0)\n",
    "    \n",
    "print(\"*** Helper Functions Defined ***\")"
   ]
  },
  {
   "cell_type": "markdown",
   "metadata": {},
   "source": [
    "### Compute Input Features"
   ]
  },
  {
   "cell_type": "code",
   "execution_count": null,
   "metadata": {
    "collapsed": false
   },
   "outputs": [],
   "source": [
    "### Camera Calibration\n",
    "\n",
    "print(\"*** Input Features Computation Functions Defined ***\")"
   ]
  },
  {
   "cell_type": "markdown",
   "metadata": {},
   "source": [
    "### Classifier Training"
   ]
  },
  {
   "cell_type": "code",
   "execution_count": null,
   "metadata": {
    "collapsed": false
   },
   "outputs": [],
   "source": [
    "print(\"*** Classifier Training Functions Defined ***\")"
   ]
  },
  {
   "cell_type": "markdown",
   "metadata": {},
   "source": [
    "### Sliding Window Technique"
   ]
  },
  {
   "cell_type": "code",
   "execution_count": null,
   "metadata": {
    "collapsed": false
   },
   "outputs": [],
   "source": [
    "    \n",
    "print(\"*** Sliding Window Technique Functions Defined ***\")"
   ]
  },
  {
   "cell_type": "markdown",
   "metadata": {},
   "source": [
    "\n",
    "### Combining Overlaps and False Positives Removal"
   ]
  },
  {
   "cell_type": "code",
   "execution_count": null,
   "metadata": {
    "collapsed": false
   },
   "outputs": [],
   "source": [
    "print(\"*** Overlap Combining and False Positives Removal Functions Defined ***\")"
   ]
  },
  {
   "cell_type": "markdown",
   "metadata": {},
   "source": [
    "\n",
    "### Overall Pipeline"
   ]
  },
  {
   "cell_type": "code",
   "execution_count": null,
   "metadata": {
    "collapsed": true
   },
   "outputs": [],
   "source": [
    "def pipeline():\n",
    "    pass"
   ]
  },
  {
   "cell_type": "code",
   "execution_count": null,
   "metadata": {
    "collapsed": false
   },
   "outputs": [],
   "source": [
    "def testPipelineOnTestImages():\n",
    "    tfiles = glob.glob('test_images/test*.jpg')\n",
    "    for tfile in tfiles:\n",
    "        timg = mpimg.imread(tfile)\n",
    "        plt.figure(figsize=(10, 12))\n",
    "        plt.imshow(timg)\n",
    "\n",
    "#testPipelineOnTestImages()"
   ]
  },
  {
   "cell_type": "markdown",
   "metadata": {},
   "source": [
    "\n",
    "### Vehicle Detection on Video"
   ]
  },
  {
   "cell_type": "code",
   "execution_count": null,
   "metadata": {
    "collapsed": false
   },
   "outputs": [],
   "source": [
    "# Import everything needed to edit/save/watch video clips\n",
    "from moviepy.editor import VideoFileClip\n",
    "from IPython.display import HTML\n",
    "\n",
    "#TODO: Basic pre-processing\n",
    "\n",
    "def process_image(image):\n",
    "    return image"
   ]
  },
  {
   "cell_type": "code",
   "execution_count": null,
   "metadata": {
    "collapsed": false
   },
   "outputs": [],
   "source": [
    "prevllfit = None\n",
    "prevrlfit = None\n",
    "outvideofile = 'project_video_output.mp4'\n",
    "pvideo = VideoFileClip(\"project_video.mp4\")\n",
    "ovideo = pvideo.fl_image(process_image)\n",
    "%time ovideo.write_videofile(outvideofile, audio=False)\n",
    "\n",
    "HTML(\"\"\"\n",
    "<video width=\"960\" height=\"540\" controls>\n",
    "  <source src=\"{0}\">\n",
    "</video>\n",
    "\"\"\".format(outvideofile))"
   ]
  },
  {
   "cell_type": "code",
   "execution_count": null,
   "metadata": {
    "collapsed": true
   },
   "outputs": [],
   "source": []
  }
 ],
 "metadata": {
  "anaconda-cloud": {},
  "kernelspec": {
   "display_name": "Python 3",
   "language": "python",
   "name": "python3"
  },
  "language_info": {
   "codemirror_mode": {
    "name": "ipython",
    "version": 3
   },
   "file_extension": ".py",
   "mimetype": "text/x-python",
   "name": "python",
   "nbconvert_exporter": "python",
   "pygments_lexer": "ipython3",
   "version": "3.5.2"
  },
  "widgets": {
   "state": {},
   "version": "1.1.2"
  }
 },
 "nbformat": 4,
 "nbformat_minor": 1
}
