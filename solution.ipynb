{
 "cells": [
  {
   "cell_type": "markdown",
   "metadata": {},
   "source": [
    "# Vehicle Detection Project\n",
    "\n",
    "The goals / steps of this project are the following:\n",
    "\n",
    "* Define functions to compute input features from dataset car/non-car images.\n",
    "    - Color space change, Spatial binning, Color histogram, HOG with subsampling\n",
    "* Combine (concatenate) input features, normalize/scale (using sklearn StandardScaler) them.\n",
    "* Using a balanced dataset and shuffled train/test splits, train a single or ensemble of classifiers to detect cars.\n",
    "    - Linear SVM, Decision trees, Deep neural networks\n",
    "* Implement a generic sliding window technique that feeds patches from a given image to classifier for classification.\n",
    "    - Use multiple window sizes\n",
    "    - Come up with efficient scan strategy (e.g. only bottom half of image)\n",
    "* Implement heatmap thresholding to combine multiple detections and remove false positives\n",
    "* Use information from multiple frames to remove spurious false positives that appear in one or small number of frames.\n",
    "    - Calculate motion trajectory if required\n"
   ]
  },
  {
   "cell_type": "code",
   "execution_count": null,
   "metadata": {
    "collapsed": false
   },
   "outputs": [],
   "source": [
    "import numpy as np\n",
    "import cv2\n",
    "import glob\n",
    "import os\n",
    "import random\n",
    "import pickle\n",
    "import time\n",
    "import matplotlib.pyplot as plt\n",
    "import matplotlib.image as mpimg\n",
    "from sklearn.svm import LinearSVC\n",
    "from sklearn.preprocessing import StandardScaler\n",
    "from skimage.feature import hog\n",
    "from sklearn.utils import shuffle\n",
    "from sklearn.model_selection import train_test_split\n",
    "%matplotlib inline"
   ]
  },
  {
   "cell_type": "code",
   "execution_count": null,
   "metadata": {
    "collapsed": false
   },
   "outputs": [],
   "source": [
    "### Helper Functions\n",
    "\n",
    "def readImage(imfile):\n",
    "    img = cv2.imread(imfile)\n",
    "    return cv2.cvtColor(img, cv2.COLOR_BGR2RGB)\n",
    "\n",
    "def plotImageFiles(filenames):\n",
    "    for f in filenames:\n",
    "        fig = plt.figure()\n",
    "        #fig.set_size_inches(3,6)\n",
    "        img = readImage(f)\n",
    "        plt.title(f)\n",
    "        plt.axis('off')\n",
    "        plt.imshow(img)\n",
    "        \n",
    "def plotImage(img, title=None, cmap=None):\n",
    "    fig = plt.figure()\n",
    "    #fig.set_size_inches(4,8)\n",
    "    if title is not None:\n",
    "        plt.title(title)\n",
    "    plt.axis('off')\n",
    "    if cmap is None:\n",
    "        plt.imshow(img)\n",
    "    else:\n",
    "        plt.imshow(img, cmap=cmap)\n",
    "    \n",
    "def plotMultipleImages(images, labels=None, ptitle=None, cmap=None):\n",
    "    \"\"\" This function will plot the images specified in a\n",
    "    single plot.\n",
    "    \"\"\"\n",
    "    numImages = len(images)\n",
    "    ii = 1\n",
    "    for img in images:\n",
    "        fig = plt.figure()\n",
    "        if labels is not None:\n",
    "            plt.title(labels[ii-1], fontsize=\"xx-small\")\n",
    "        plt.axis('off')\n",
    "        if cmap is not None:\n",
    "            plt.imshow(img.squeeze(), cmap=cmap)\n",
    "        else:\n",
    "            plt.imshow(img.squeeze())\n",
    "        ii += 1\n",
    "    \n",
    "    \n",
    "print(\"*** Helper Functions Defined ***\")"
   ]
  },
  {
   "cell_type": "markdown",
   "metadata": {},
   "source": [
    "### Compute Input Features"
   ]
  },
  {
   "cell_type": "code",
   "execution_count": null,
   "metadata": {
    "collapsed": false
   },
   "outputs": [],
   "source": [
    "def getBinSpatialFeatures(img, size=(32, 32)):\n",
    "    \"\"\" Computes spatially binned color features\n",
    "    \"\"\"\n",
    "    features = cv2.resize(img, size).ravel() \n",
    "    return features\n",
    "\n",
    "def getColorHistogramFeatures(img, nbins=32, bins_range=(0, 256)):\n",
    "    \"\"\" Computes color histogram of features for each image channel\n",
    "    and combines them into a single feature vector.\n",
    "    \"\"\"\n",
    "    channelhists = []\n",
    "    for i in range(0, img.shape[2]):\n",
    "        channelhist = np.histogram(img[:,:,i], bins=nbins, range=bins_range)\n",
    "        channelhists.append(channelhist)\n",
    "    # Concatenate the histograms into a single feature vector\n",
    "    hist_features = np.concatenate(channelhists)\n",
    "    return hist_features\n",
    "\n",
    "def getHOGFeatures(img, orient, pix_per_cell, cell_per_block, vis=False, feature_vec=True):\n",
    "    \"\"\" Computes and returns HOG features and visualization (optional).\n",
    "    \"\"\"\n",
    "    if vis == True:\n",
    "        features, hog_image = hog(img, orientations=orient, pixels_per_cell=(pix_per_cell, pix_per_cell),\n",
    "                                  cells_per_block=(cell_per_block, cell_per_block), transform_sqrt=True, \n",
    "                                  visualise=vis, feature_vector=feature_vec)\n",
    "        return features, hog_image\n",
    "    else:      \n",
    "        features = hog(img, orientations=orient, pixels_per_cell=(pix_per_cell, pix_per_cell),\n",
    "                       cells_per_block=(cell_per_block, cell_per_block), transform_sqrt=True, \n",
    "                       visualise=vis, feature_vector=feature_vec)\n",
    "        return features\n",
    "    \n",
    "def extractFeatures(img, color_space='RGB', spatial_size=(32, 32),\n",
    "                    hist_bins=32, orient=9,\n",
    "                    pix_per_cell=8, cell_per_block=2, hog_channel=0,\n",
    "                    spatial_feat=True, hist_feat=True, hog_feat=True):    \n",
    "    \"\"\" Returns a combined image feature vector for given image.\n",
    "    \"\"\"\n",
    "    #1) Define an empty list to receive features\n",
    "    img_features = []\n",
    "    #2) Apply color conversion if other than 'RGB'\n",
    "    if color_space != 'RGB':\n",
    "        if color_space == 'HSV':\n",
    "            feature_image = cv2.cvtColor(img, cv2.COLOR_RGB2HSV)\n",
    "        elif color_space == 'LUV':\n",
    "            feature_image = cv2.cvtColor(img, cv2.COLOR_RGB2LUV)\n",
    "        elif color_space == 'HLS':\n",
    "            feature_image = cv2.cvtColor(img, cv2.COLOR_RGB2HLS)\n",
    "        elif color_space == 'YUV':\n",
    "            feature_image = cv2.cvtColor(img, cv2.COLOR_RGB2YUV)\n",
    "        elif color_space == 'YCrCb':\n",
    "            feature_image = cv2.cvtColor(img, cv2.COLOR_RGB2YCrCb)\n",
    "    else:\n",
    "        feature_image = np.copy(img)      \n",
    "    #3) Compute spatial features if flag is set\n",
    "    if spatial_feat == True:\n",
    "        spatial_features = getBinSpatialFeatures(feature_image, size=spatial_size)\n",
    "        #4) Append features to list\n",
    "        img_features.append(spatial_features)\n",
    "    #5) Compute histogram features if flag is set\n",
    "    if hist_feat == True:\n",
    "        hist_features = getColorHistogramFeatures(feature_image, nbins=hist_bins)\n",
    "        #6) Append features to list\n",
    "        img_features.append(hist_features)\n",
    "    #7) Compute HOG features if flag is set\n",
    "    if hog_feat == True:\n",
    "        if hog_channel == 'ALL':\n",
    "            hog_features = []\n",
    "            for channel in range(feature_image.shape[2]):\n",
    "                hog_features.extend(getHOGFeatures(feature_image[:,:,channel], \n",
    "                                    orient, pix_per_cell, cell_per_block, \n",
    "                                    vis=False, feature_vec=True))      \n",
    "        else:\n",
    "            hog_features = getHOGFeatures(feature_image[:,:,hog_channel], orient, \n",
    "                        pix_per_cell, cell_per_block, vis=False, feature_vec=True)\n",
    "        #8) Append features to list\n",
    "        img_features.append(hog_features)\n",
    "\n",
    "    #9) Return concatenated array of features\n",
    "    return np.concatenate(img_features)\n",
    "\n",
    "def batchExtractFeatures(imgfiles, color_space='RGB', spatial_size=(32, 32),\n",
    "                         hist_bins=32, orient=9, \n",
    "                         pix_per_cell=8, cell_per_block=2, hog_channel=0,\n",
    "                         spatial_feat=True, hist_feat=True, hog_feat=True):\n",
    "    batch_features = []\n",
    "    for imfile in imgfiles:\n",
    "        img = readImage(imfile)\n",
    "        features = extractFeatures(img, color_space, spatial_size, hist_bins, orient,\n",
    "                                   pix_per_cell, cell_per_block, hog_channel,\n",
    "                                   spatial_feat, hist_feat, hog_feat)\n",
    "        batch_features.append(features)\n",
    "    return batch_features\n",
    "\n",
    "def plotSampleHogImages():\n",
    "    carfiles = glob.glob('data/vehicles/**/*.png', recursive=True)\n",
    "    noncarfiles = glob.glob('data/non-vehicles/**/*.png', recursive=True)\n",
    "    samples = min(len(carfiles), len(noncarfiles))\n",
    "    ind = random.randint(0, samples-1)\n",
    "    carimg = readImage(carfiles[ind])\n",
    "    noncarimg = readImage(noncarfiles[ind])\n",
    "    gscarimg = cv2.cvtColor(carimg, cv2.COLOR_RGB2GRAY)\n",
    "    gsnoncarimg = cv2.cvtColor(noncarimg, cv2.COLOR_RGB2GRAY)\n",
    "    _, carhogvis = getHOGFeatures(gscarimg, orient=9, pix_per_cell=4, cell_per_block=2, vis=True, feature_vec=True)\n",
    "    _, noncarhogvis = getHOGFeatures(gsnoncarimg, orient=9, pix_per_cell=4, cell_per_block=2, vis=True, feature_vec=True)\n",
    "    plotMultipleImages([carimg, carhogvis], cmap=\"gray\")\n",
    "\n",
    "print(\"*** Input Features Computation Functions Defined ***\")"
   ]
  },
  {
   "cell_type": "markdown",
   "metadata": {},
   "source": [
    "### Classifier Training"
   ]
  },
  {
   "cell_type": "code",
   "execution_count": null,
   "metadata": {
    "collapsed": false,
    "scrolled": true
   },
   "outputs": [],
   "source": [
    "def getClassifierParams():\n",
    "    params = dict()\n",
    "    params['color_space'] = 'RGB' # Can be RGB, HSV, LUV, HLS, YUV, YCrCb\n",
    "    params['orient'] = 9  # HOG orientations\n",
    "    params['pix_per_cell'] = 8 # HOG pixels per cell\n",
    "    params['cell_per_block'] = 2 # HOG cells per block\n",
    "    params['hog_channel'] = \"ALL\" # Can be 0, 1, 2, or \"ALL\"\n",
    "    params['spatial_size'] = (16, 16) # Spatial binning dimensions\n",
    "    params['hist_bins'] = 16    # Number of histogram bins\n",
    "    params['spatial_feat'] = False # Spatial features on or off\n",
    "    params['hist_feat'] = False # Histogram features on or off\n",
    "    params['hog_feat'] = True # HOG features on or off\n",
    "    return params\n",
    "    \n",
    "\n",
    "def getClassifier(datafile = \"./classifier/svc.pickle\", forcetrain=False):\n",
    "    \"\"\" Loads a pre-trained classifier if available or trains a new one.\n",
    "    It takes care of loading up the dataset images, extracting the image\n",
    "    features\n",
    "    \"\"\"\n",
    "    if os.path.isfile(datafile) and not forcetrain:\n",
    "        print(\"--> Returning saved classifier\")\n",
    "        with open(datafile, \"rb\") as f:\n",
    "            pickledata = pickle.load(f)\n",
    "            clf = pickledata[\"classifier\"]\n",
    "            return clf\n",
    "    carfiles = glob.glob('data/vehicles/**/*.png', recursive=True)\n",
    "    noncarfiles = glob.glob('data/non-vehicles/**/*.png', recursive=True)\n",
    "    numsamples = min(len(carfiles), len(noncarfiles))\n",
    "    params = getClassifierParams()\n",
    "    print(\"--> Extracting features. Numsamples = \", numsamples)\n",
    "    carfeatures = batchExtractFeatures(carfiles[0:numsamples], color_space=params['color_space'],\n",
    "                        spatial_size=params['spatial_size'], hist_bins=params['hist_bins'], \n",
    "                        orient=params['orient'], pix_per_cell=params['pix_per_cell'],\n",
    "                        cell_per_block=params['cell_per_block'], \n",
    "                        hog_channel=params['hog_channel'], spatial_feat=params['spatial_feat'], \n",
    "                        hist_feat=params['hist_feat'], hog_feat=params['hog_feat'])\n",
    "    noncarfeatures = batchExtractFeatures(noncarfiles[0:numsamples], color_space=params['color_space'],\n",
    "                        spatial_size=params['spatial_size'], hist_bins=params['hist_bins'], \n",
    "                        orient=params['orient'], pix_per_cell=params['pix_per_cell'],\n",
    "                        cell_per_block=params['cell_per_block'], \n",
    "                        hog_channel=params['hog_channel'], spatial_feat=params['spatial_feat'], \n",
    "                        hist_feat=params['hist_feat'], hog_feat=params['hog_feat'])\n",
    "    X = np.vstack((carfeatures, noncarfeatures)).astype(np.float64)                        \n",
    "    print(\"--> Scaling features\")\n",
    "    # Fit a per-column scaler\n",
    "    X_scaler = StandardScaler().fit(X)\n",
    "    # Apply the scaler to X\n",
    "    scaled_X = X_scaler.transform(X)\n",
    "    # Define the labels vector\n",
    "    y = np.hstack((np.ones(len(carfeatures)), np.zeros(len(noncarfeatures))))\n",
    "    # Split up data into randomized training and test sets\n",
    "    rand_state = np.random.randint(0, 100)\n",
    "    X_train, X_test, y_train, y_test = train_test_split(scaled_X, y, test_size=0.2, random_state=rand_state)\n",
    "    # Use a linear SVC \n",
    "    svc = LinearSVC()\n",
    "    # Check the training time for the SVC\n",
    "    print(\"--> Starting to Train Classifier\")\n",
    "    t=time.time()\n",
    "    svc.fit(X_train, y_train)\n",
    "    t2 = time.time()\n",
    "    print(\"--> \", round(t2-t, 2), 'Seconds to train SVC...')\n",
    "    # Check the score of the SVC\n",
    "    print('--> Test Accuracy of SVC = ', round(svc.score(X_test, y_test), 4))\n",
    "    print(\"--> Saving Classifier\")    \n",
    "    t=time.time()\n",
    "    with open(datafile, \"wb\") as f:\n",
    "        pickle.dump( { 'classifier': svc,}, f, pickle.HIGHEST_PROTOCOL )\n",
    "    return svc\n",
    "\n",
    "svc = getClassifier()\n",
    "\n",
    "print(\"*** Classifier Training Functions Defined ***\")"
   ]
  },
  {
   "cell_type": "markdown",
   "metadata": {},
   "source": [
    "### Sliding Window Technique"
   ]
  },
  {
   "cell_type": "code",
   "execution_count": null,
   "metadata": {
    "collapsed": false
   },
   "outputs": [],
   "source": [
    "    \n",
    "print(\"*** Sliding Window Technique Functions Defined ***\")"
   ]
  },
  {
   "cell_type": "markdown",
   "metadata": {},
   "source": [
    "\n",
    "### Combining Overlaps and False Positives Removal"
   ]
  },
  {
   "cell_type": "code",
   "execution_count": null,
   "metadata": {
    "collapsed": false
   },
   "outputs": [],
   "source": [
    "print(\"*** Overlap Combining and False Positives Removal Functions Defined ***\")"
   ]
  },
  {
   "cell_type": "markdown",
   "metadata": {},
   "source": [
    "\n",
    "### Overall Pipeline"
   ]
  },
  {
   "cell_type": "code",
   "execution_count": null,
   "metadata": {
    "collapsed": true
   },
   "outputs": [],
   "source": [
    "def pipeline():\n",
    "    pass"
   ]
  },
  {
   "cell_type": "code",
   "execution_count": null,
   "metadata": {
    "collapsed": false
   },
   "outputs": [],
   "source": [
    "def testPipelineOnTestImages():\n",
    "    tfiles = glob.glob('test_images/test*.jpg')\n",
    "    for tfile in tfiles:\n",
    "        timg = mpimg.imread(tfile)\n",
    "        plt.figure(figsize=(10, 12))\n",
    "        plt.imshow(timg)\n",
    "\n",
    "#testPipelineOnTestImages()"
   ]
  },
  {
   "cell_type": "markdown",
   "metadata": {},
   "source": [
    "\n",
    "### Vehicle Detection on Video"
   ]
  },
  {
   "cell_type": "code",
   "execution_count": null,
   "metadata": {
    "collapsed": false
   },
   "outputs": [],
   "source": [
    "# Import everything needed to edit/save/watch video clips\n",
    "from moviepy.editor import VideoFileClip\n",
    "from IPython.display import HTML\n",
    "\n",
    "#TODO: Basic pre-processing\n",
    "\n",
    "def process_image(image):\n",
    "    return image"
   ]
  },
  {
   "cell_type": "code",
   "execution_count": null,
   "metadata": {
    "collapsed": false
   },
   "outputs": [],
   "source": [
    "prevllfit = None\n",
    "prevrlfit = None\n",
    "outvideofile = 'project_video_output.mp4'\n",
    "pvideo = VideoFileClip(\"project_video.mp4\")\n",
    "ovideo = pvideo.fl_image(process_image)\n",
    "%time ovideo.write_videofile(outvideofile, audio=False)\n",
    "\n",
    "HTML(\"\"\"\n",
    "<video width=\"960\" height=\"540\" controls>\n",
    "  <source src=\"{0}\">\n",
    "</video>\n",
    "\"\"\".format(outvideofile))"
   ]
  },
  {
   "cell_type": "code",
   "execution_count": null,
   "metadata": {
    "collapsed": true
   },
   "outputs": [],
   "source": []
  }
 ],
 "metadata": {
  "anaconda-cloud": {},
  "kernelspec": {
   "display_name": "Python 3",
   "language": "python",
   "name": "python3"
  },
  "language_info": {
   "codemirror_mode": {
    "name": "ipython",
    "version": 3
   },
   "file_extension": ".py",
   "mimetype": "text/x-python",
   "name": "python",
   "nbconvert_exporter": "python",
   "pygments_lexer": "ipython3",
   "version": "3.5.2"
  },
  "widgets": {
   "state": {},
   "version": "1.1.2"
  }
 },
 "nbformat": 4,
 "nbformat_minor": 1
}
