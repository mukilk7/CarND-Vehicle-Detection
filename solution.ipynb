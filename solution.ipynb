{
 "cells": [
  {
   "cell_type": "markdown",
   "metadata": {},
   "source": [
    "# Vehicle Detection Project\n",
    "\n",
    "The goals / steps of this project are the following:\n",
    "\n",
    "* Define functions to compute input features from dataset car/non-car images.\n",
    "    - Color space change, Spatial binning, Color histogram, HOG with subsampling\n",
    "* Combine (concatenate) input features, normalize/scale (using sklearn StandardScaler) them.\n",
    "* Using a balanced dataset and shuffled train/test splits, train a single or ensemble of classifiers to detect cars.\n",
    "    - Linear SVM, Decision trees, Deep neural networks\n",
    "* Implement a generic sliding window technique that feeds patches from a given image to classifier for classification.\n",
    "    - Use multiple window sizes\n",
    "    - Come up with efficient scan strategy (e.g. only bottom half of image)\n",
    "* Implement heatmap thresholding to combine multiple detections and remove false positives\n",
    "* Use information from multiple frames to remove spurious false positives that appear in one or small number of frames.\n",
    "    - Calculate motion trajectory if required\n"
   ]
  },
  {
   "cell_type": "code",
   "execution_count": 1,
   "metadata": {
    "collapsed": false
   },
   "outputs": [
    {
     "name": "stderr",
     "output_type": "stream",
     "text": [
      "/root/miniconda3/envs/carnd_term_1/lib/python3.5/site-packages/matplotlib/font_manager.py:273: UserWarning: Matplotlib is building the font cache using fc-list. This may take a moment.\n",
      "  warnings.warn('Matplotlib is building the font cache using fc-list. This may take a moment.')\n",
      "/root/miniconda3/envs/carnd_term_1/lib/python3.5/site-packages/matplotlib/font_manager.py:273: UserWarning: Matplotlib is building the font cache using fc-list. This may take a moment.\n",
      "  warnings.warn('Matplotlib is building the font cache using fc-list. This may take a moment.')\n"
     ]
    }
   ],
   "source": [
    "import numpy as np\n",
    "import cv2\n",
    "import glob\n",
    "import os\n",
    "import matplotlib.pyplot as plt\n",
    "import matplotlib.image as mpimg\n",
    "from sklearn.preprocessing import StandardScaler\n",
    "%matplotlib inline"
   ]
  },
  {
   "cell_type": "code",
   "execution_count": 2,
   "metadata": {
    "collapsed": false
   },
   "outputs": [
    {
     "name": "stdout",
     "output_type": "stream",
     "text": [
      "*** Helper Functions Defined ***\n"
     ]
    }
   ],
   "source": [
    "### Helper Functions\n",
    "\n",
    "def plotImageFiles(filenames):\n",
    "    for f in filenames:\n",
    "        fig = plt.figure()\n",
    "        fig.set_size_inches(3,6)\n",
    "        img = mpimg.imread(f)\n",
    "        plt.title(f)\n",
    "        plt.axis('off')\n",
    "        plt.imshow(img)\n",
    "        \n",
    "def plotImage(img, title=None, cmap=None):\n",
    "    fig = plt.figure(figsize=(10, 12))\n",
    "    #fig.set_size_inches(4,8)\n",
    "    if title is not None:\n",
    "        plt.title(title)\n",
    "    plt.axis('off')\n",
    "    if cmap is None:\n",
    "        plt.imshow(img)\n",
    "    else:\n",
    "        plt.imshow(img, cmap=cmap)\n",
    "    \n",
    "def plotMultipleImages(images, labels=None, ptitle=None, cmap=None):\n",
    "    \"\"\" This function will plot the images specified in a\n",
    "    single plot.\n",
    "    \"\"\"\n",
    "    numImages = len(images)\n",
    "    ii = 1\n",
    "    for img in images:\n",
    "        fig = plt.figure()\n",
    "        if labels is not None:\n",
    "            plt.title(labels[ii-1], fontsize=\"xx-small\")\n",
    "        plt.axis('off')\n",
    "        if cmap is not None:\n",
    "            plt.imshow(img.squeeze(), cmap=cmap)\n",
    "        else:\n",
    "            plt.imshow(img.squeeze())\n",
    "        ii += 1\n",
    "        \n",
    "def plotImageAndPolygon(img, polygonPts):\n",
    "    fig, ax = plt.subplots(1)\n",
    "    pgn = plt.Polygon(polygonPts, color='r', alpha=0.25, lw=2)\n",
    "    ax.imshow(img)\n",
    "    ax.add_patch(pgn)\n",
    "    \n",
    "def plotImageAndMultiplePolygons(img, multPolyPts1, multPolyPts2, cmap=None):\n",
    "    fig, ax = plt.subplots(1)\n",
    "    if cmap is None:\n",
    "        ax.imshow(img)\n",
    "    else:\n",
    "        ax.imshow(img, cmap=cmap)\n",
    "    for p in range(0, len(multPolyPts1)):\n",
    "        pgn1 = plt.Polygon(multPolyPts1[p], color='r', alpha=0.25, lw=1)\n",
    "        pgn2 = plt.Polygon(multPolyPts2[p], color='b', alpha=0.25, lw=1)\n",
    "        ax.add_patch(pgn1)\n",
    "        ax.add_patch(pgn2)\n",
    "        \n",
    "def plot3SideBySide(oimg, timg, hist):\n",
    "    fig = plt.figure(figsize=(12,3))\n",
    "    plt.subplot(131)\n",
    "    plt.imshow(oimg)\n",
    "    plt.subplot(132)\n",
    "    plt.imshow(timg, cmap=\"gray\")\n",
    "    plt.subplot(133)\n",
    "    plt.plot(hist)\n",
    "    \n",
    "def plotLaneFit(timg, llfit, rlfit):\n",
    "    plt.figure()\n",
    "    # Generate x and y values for plotting\n",
    "    ploty = np.linspace(0, timg.shape[0]-1, timg.shape[0] )\n",
    "    left_fitx = llfit[0]*ploty**2 + llfit[1]*ploty + llfit[2]\n",
    "    right_fitx = rlfit[0]*ploty**2 + rlfit[1]*ploty + rlfit[2]\n",
    "    plt.imshow(timg, cmap=\"gray\")\n",
    "    plt.plot(left_fitx, ploty, color='r', lw=3)\n",
    "    plt.plot(right_fitx, ploty, color='b', lw=3)\n",
    "    plt.xlim(0, 1280)\n",
    "    plt.ylim(720, 0)\n",
    "    \n",
    "print(\"*** Helper Functions Defined ***\")"
   ]
  },
  {
   "cell_type": "markdown",
   "metadata": {},
   "source": [
    "### Compute Input Features"
   ]
  },
  {
   "cell_type": "code",
   "execution_count": null,
   "metadata": {
    "collapsed": false
   },
   "outputs": [],
   "source": [
    "def getBinSpatialFeatures(img, size=(32, 32)):\n",
    "    \"\"\" Computes spatially binned color features\n",
    "    \"\"\"\n",
    "    features = cv2.resize(img, size).ravel() \n",
    "    return features\n",
    "\n",
    "def getColorHistogramFeatures(img, nbins=32, bins_range=(0, 256)):\n",
    "    \"\"\" Computes color histogram of features for each image channel\n",
    "    and combines them into a single feature vector.\n",
    "    \"\"\"\n",
    "    channelhists = []\n",
    "    for i in range(0, img.shape[2]):\n",
    "        channelhist = np.histogram(img[:,:,i], bins=nbins, range=bins_range)\n",
    "        channelhists.append(channelhist)\n",
    "    # Concatenate the histograms into a single feature vector\n",
    "    hist_features = np.concatenate(channelhists)\n",
    "    return hist_features\n",
    "\n",
    "def getHOGFeatures(img, orient, pix_per_cell, cell_per_block, vis=False, feature_vec=True):\n",
    "    \"\"\" Computes and returns HOG features and visualization (optional).\n",
    "    \"\"\"\n",
    "    if vis == True:\n",
    "        features, hog_image = hog(img, orientations=orient, pixels_per_cell=(pix_per_cell, pix_per_cell),\n",
    "                                  cells_per_block=(cell_per_block, cell_per_block), transform_sqrt=True, \n",
    "                                  visualise=vis, feature_vector=feature_vec)\n",
    "        return features, hog_image\n",
    "    else:      \n",
    "        features = hog(img, orientations=orient, pixels_per_cell=(pix_per_cell, pix_per_cell),\n",
    "                       cells_per_block=(cell_per_block, cell_per_block), transform_sqrt=True, \n",
    "                       visualise=vis, feature_vector=feature_vec)\n",
    "        return features\n",
    "    \n",
    "def extractCombinedImageFeatures(img, color_space='RGB', spatial_size=(32, 32),\n",
    "                        hist_bins=32, orient=9, \n",
    "                        pix_per_cell=8, cell_per_block=2, hog_channel=0,\n",
    "                        spatial_feat=True, hist_feat=True, hog_feat=True):    \n",
    "    \"\"\" Returns a combined image feature vector for given image.\n",
    "    \"\"\"\n",
    "    #1) Define an empty list to receive features\n",
    "    img_features = []\n",
    "    #2) Apply color conversion if other than 'RGB'\n",
    "    if color_space != 'RGB':\n",
    "        if color_space == 'HSV':\n",
    "            feature_image = cv2.cvtColor(img, cv2.COLOR_RGB2HSV)\n",
    "        elif color_space == 'LUV':\n",
    "            feature_image = cv2.cvtColor(img, cv2.COLOR_RGB2LUV)\n",
    "        elif color_space == 'HLS':\n",
    "            feature_image = cv2.cvtColor(img, cv2.COLOR_RGB2HLS)\n",
    "        elif color_space == 'YUV':\n",
    "            feature_image = cv2.cvtColor(img, cv2.COLOR_RGB2YUV)\n",
    "        elif color_space == 'YCrCb':\n",
    "            feature_image = cv2.cvtColor(img, cv2.COLOR_RGB2YCrCb)\n",
    "    else:\n",
    "        feature_image = np.copy(img)      \n",
    "    #3) Compute spatial features if flag is set\n",
    "    if spatial_feat == True:\n",
    "        spatial_features = getBinSpatialFeatures(feature_image, size=spatial_size)\n",
    "        #4) Append features to list\n",
    "        img_features.append(spatial_features)\n",
    "    #5) Compute histogram features if flag is set\n",
    "    if hist_feat == True:\n",
    "        hist_features = getColorHistogramFeatures(feature_image, nbins=hist_bins)\n",
    "        #6) Append features to list\n",
    "        img_features.append(hist_features)\n",
    "    #7) Compute HOG features if flag is set\n",
    "    if hog_feat == True:\n",
    "        if hog_channel == 'ALL':\n",
    "            hog_features = []\n",
    "            for channel in range(feature_image.shape[2]):\n",
    "                hog_features.extend(getHOGFeatures(feature_image[:,:,channel], \n",
    "                                    orient, pix_per_cell, cell_per_block, \n",
    "                                    vis=False, feature_vec=True))      \n",
    "        else:\n",
    "            hog_features = getHOGFeatures(feature_image[:,:,hog_channel], orient, \n",
    "                        pix_per_cell, cell_per_block, vis=False, feature_vec=True)\n",
    "        #8) Append features to list\n",
    "        img_features.append(hog_features)\n",
    "\n",
    "    #9) Return concatenated array of features\n",
    "    return np.concatenate(img_features)\n",
    "\n",
    "\n",
    "print(\"*** Input Features Computation Functions Defined ***\")"
   ]
  },
  {
   "cell_type": "markdown",
   "metadata": {},
   "source": [
    "### Classifier Training"
   ]
  },
  {
   "cell_type": "code",
   "execution_count": null,
   "metadata": {
    "collapsed": false
   },
   "outputs": [],
   "source": [
    "print(\"*** Classifier Training Functions Defined ***\")"
   ]
  },
  {
   "cell_type": "markdown",
   "metadata": {},
   "source": [
    "### Sliding Window Technique"
   ]
  },
  {
   "cell_type": "code",
   "execution_count": null,
   "metadata": {
    "collapsed": false
   },
   "outputs": [],
   "source": [
    "    \n",
    "print(\"*** Sliding Window Technique Functions Defined ***\")"
   ]
  },
  {
   "cell_type": "markdown",
   "metadata": {},
   "source": [
    "\n",
    "### Combining Overlaps and False Positives Removal"
   ]
  },
  {
   "cell_type": "code",
   "execution_count": null,
   "metadata": {
    "collapsed": false
   },
   "outputs": [],
   "source": [
    "print(\"*** Overlap Combining and False Positives Removal Functions Defined ***\")"
   ]
  },
  {
   "cell_type": "markdown",
   "metadata": {},
   "source": [
    "\n",
    "### Overall Pipeline"
   ]
  },
  {
   "cell_type": "code",
   "execution_count": null,
   "metadata": {
    "collapsed": true
   },
   "outputs": [],
   "source": [
    "def pipeline():\n",
    "    pass"
   ]
  },
  {
   "cell_type": "code",
   "execution_count": null,
   "metadata": {
    "collapsed": false
   },
   "outputs": [],
   "source": [
    "def testPipelineOnTestImages():\n",
    "    tfiles = glob.glob('test_images/test*.jpg')\n",
    "    for tfile in tfiles:\n",
    "        timg = mpimg.imread(tfile)\n",
    "        plt.figure(figsize=(10, 12))\n",
    "        plt.imshow(timg)\n",
    "\n",
    "#testPipelineOnTestImages()"
   ]
  },
  {
   "cell_type": "markdown",
   "metadata": {},
   "source": [
    "\n",
    "### Vehicle Detection on Video"
   ]
  },
  {
   "cell_type": "code",
   "execution_count": null,
   "metadata": {
    "collapsed": false
   },
   "outputs": [],
   "source": [
    "# Import everything needed to edit/save/watch video clips\n",
    "from moviepy.editor import VideoFileClip\n",
    "from IPython.display import HTML\n",
    "\n",
    "#TODO: Basic pre-processing\n",
    "\n",
    "def process_image(image):\n",
    "    return image"
   ]
  },
  {
   "cell_type": "code",
   "execution_count": null,
   "metadata": {
    "collapsed": false
   },
   "outputs": [],
   "source": [
    "prevllfit = None\n",
    "prevrlfit = None\n",
    "outvideofile = 'project_video_output.mp4'\n",
    "pvideo = VideoFileClip(\"project_video.mp4\")\n",
    "ovideo = pvideo.fl_image(process_image)\n",
    "%time ovideo.write_videofile(outvideofile, audio=False)\n",
    "\n",
    "HTML(\"\"\"\n",
    "<video width=\"960\" height=\"540\" controls>\n",
    "  <source src=\"{0}\">\n",
    "</video>\n",
    "\"\"\".format(outvideofile))"
   ]
  },
  {
   "cell_type": "code",
   "execution_count": null,
   "metadata": {
    "collapsed": true
   },
   "outputs": [],
   "source": []
  }
 ],
 "metadata": {
  "anaconda-cloud": {},
  "kernelspec": {
   "display_name": "Python 3",
   "language": "python",
   "name": "python3"
  },
  "language_info": {
   "codemirror_mode": {
    "name": "ipython",
    "version": 3
   },
   "file_extension": ".py",
   "mimetype": "text/x-python",
   "name": "python",
   "nbconvert_exporter": "python",
   "pygments_lexer": "ipython3",
   "version": "3.5.2"
  },
  "widgets": {
   "state": {},
   "version": "1.1.2"
  }
 },
 "nbformat": 4,
 "nbformat_minor": 1
}
